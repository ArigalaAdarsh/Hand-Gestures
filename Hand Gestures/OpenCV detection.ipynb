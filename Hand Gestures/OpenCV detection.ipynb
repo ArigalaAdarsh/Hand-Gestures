{
 "cells": [
  {
   "cell_type": "code",
   "execution_count": 2,
   "id": "2e9e02ec",
   "metadata": {},
   "outputs": [
    {
     "name": "stdout",
     "output_type": "stream",
     "text": [
      "Requirement already satisfied: mediapipe in c:\\users\\arigala.adarsh\\anaconda3\\lib\\site-packages (0.10.10)\n",
      "Requirement already satisfied: numpy in c:\\users\\arigala.adarsh\\anaconda3\\lib\\site-packages (from mediapipe) (1.23.5)\n",
      "Requirement already satisfied: protobuf<4,>=3.11 in c:\\users\\arigala.adarsh\\anaconda3\\lib\\site-packages (from mediapipe) (3.20.3)\n",
      "Requirement already satisfied: opencv-contrib-python in c:\\users\\arigala.adarsh\\anaconda3\\lib\\site-packages (from mediapipe) (4.9.0.80)\n",
      "Requirement already satisfied: flatbuffers>=2.0 in c:\\users\\arigala.adarsh\\anaconda3\\lib\\site-packages (from mediapipe) (23.5.26)\n",
      "Requirement already satisfied: matplotlib in c:\\users\\arigala.adarsh\\anaconda3\\lib\\site-packages (from mediapipe) (3.5.2)\n",
      "Requirement already satisfied: jax in c:\\users\\arigala.adarsh\\anaconda3\\lib\\site-packages (from mediapipe) (0.4.13)\n",
      "Requirement already satisfied: absl-py in c:\\users\\arigala.adarsh\\anaconda3\\lib\\site-packages (from mediapipe) (1.4.0)\n",
      "Requirement already satisfied: sounddevice>=0.4.4 in c:\\users\\arigala.adarsh\\anaconda3\\lib\\site-packages (from mediapipe) (0.4.6)\n",
      "Requirement already satisfied: attrs>=19.1.0 in c:\\users\\arigala.adarsh\\anaconda3\\lib\\site-packages (from mediapipe) (21.4.0)\n",
      "Requirement already satisfied: CFFI>=1.0 in c:\\users\\arigala.adarsh\\anaconda3\\lib\\site-packages (from sounddevice>=0.4.4->mediapipe) (1.15.1)\n",
      "Requirement already satisfied: scipy>=1.7 in c:\\users\\arigala.adarsh\\anaconda3\\lib\\site-packages (from jax->mediapipe) (1.9.1)\n",
      "Requirement already satisfied: opt-einsum in c:\\users\\arigala.adarsh\\anaconda3\\lib\\site-packages (from jax->mediapipe) (3.3.0)\n",
      "Requirement already satisfied: importlib-metadata>=4.6 in c:\\users\\arigala.adarsh\\anaconda3\\lib\\site-packages (from jax->mediapipe) (4.11.3)\n",
      "Requirement already satisfied: ml-dtypes>=0.1.0 in c:\\users\\arigala.adarsh\\anaconda3\\lib\\site-packages (from jax->mediapipe) (0.2.0)\n",
      "Requirement already satisfied: kiwisolver>=1.0.1 in c:\\users\\arigala.adarsh\\anaconda3\\lib\\site-packages (from matplotlib->mediapipe) (1.4.2)\n",
      "Requirement already satisfied: fonttools>=4.22.0 in c:\\users\\arigala.adarsh\\anaconda3\\lib\\site-packages (from matplotlib->mediapipe) (4.25.0)\n",
      "Requirement already satisfied: pyparsing>=2.2.1 in c:\\users\\arigala.adarsh\\anaconda3\\lib\\site-packages (from matplotlib->mediapipe) (3.0.9)\n",
      "Requirement already satisfied: cycler>=0.10 in c:\\users\\arigala.adarsh\\anaconda3\\lib\\site-packages (from matplotlib->mediapipe) (0.11.0)\n",
      "Requirement already satisfied: packaging>=20.0 in c:\\users\\arigala.adarsh\\anaconda3\\lib\\site-packages (from matplotlib->mediapipe) (21.3)\n",
      "Requirement already satisfied: python-dateutil>=2.7 in c:\\users\\arigala.adarsh\\anaconda3\\lib\\site-packages (from matplotlib->mediapipe) (2.8.2)\n",
      "Requirement already satisfied: pillow>=6.2.0 in c:\\users\\arigala.adarsh\\anaconda3\\lib\\site-packages (from matplotlib->mediapipe) (9.2.0)\n",
      "Requirement already satisfied: pycparser in c:\\users\\arigala.adarsh\\anaconda3\\lib\\site-packages (from CFFI>=1.0->sounddevice>=0.4.4->mediapipe) (2.21)\n",
      "Requirement already satisfied: zipp>=0.5 in c:\\users\\arigala.adarsh\\anaconda3\\lib\\site-packages (from importlib-metadata>=4.6->jax->mediapipe) (3.8.0)\n",
      "Requirement already satisfied: six>=1.5 in c:\\users\\arigala.adarsh\\anaconda3\\lib\\site-packages (from python-dateutil>=2.7->matplotlib->mediapipe) (1.16.0)\n"
     ]
    },
    {
     "name": "stderr",
     "output_type": "stream",
     "text": [
      "WARNING: Ignoring invalid distribution -rotobuf (c:\\users\\arigala.adarsh\\anaconda3\\lib\\site-packages)\n",
      "WARNING: Ignoring invalid distribution -rotobuf (c:\\users\\arigala.adarsh\\anaconda3\\lib\\site-packages)\n",
      "WARNING: Ignoring invalid distribution -rotobuf (c:\\users\\arigala.adarsh\\anaconda3\\lib\\site-packages)\n",
      "WARNING: Ignoring invalid distribution -rotobuf (c:\\users\\arigala.adarsh\\anaconda3\\lib\\site-packages)\n",
      "WARNING: Ignoring invalid distribution -rotobuf (c:\\users\\arigala.adarsh\\anaconda3\\lib\\site-packages)\n",
      "WARNING: Ignoring invalid distribution -rotobuf (c:\\users\\arigala.adarsh\\anaconda3\\lib\\site-packages)\n"
     ]
    }
   ],
   "source": [
    "!pip install mediapipe"
   ]
  },
  {
   "cell_type": "markdown",
   "id": "81a32b0d",
   "metadata": {},
   "source": [
    "# Importing Necessary Packages"
   ]
  },
  {
   "cell_type": "code",
   "execution_count": 3,
   "id": "8d6946c1",
   "metadata": {
    "scrolled": true
   },
   "outputs": [],
   "source": [
    "import cv2\n",
    "import mediapipe as mp\n"
   ]
  },
  {
   "cell_type": "code",
   "execution_count": 4,
   "id": "d421e5e7",
   "metadata": {},
   "outputs": [],
   "source": [
    "mp_drawing=mp.solutions.drawing_utils\n",
    "mp_hands=mp.solutions.hands\n",
    "mp_face_detection = mp.solutions.face_detection\n",
    "mp_holistic = mp.solutions.holistic"
   ]
  },
  {
   "cell_type": "markdown",
   "id": "e1dc0188",
   "metadata": {},
   "source": [
    "- These lines import specific modules from the mediapipe library. mp_drawing is for drawing utilities, and mp_hands is for hand tracking."
   ]
  },
  {
   "cell_type": "markdown",
   "id": "d4210887",
   "metadata": {},
   "source": [
    "### Initilaize Video Capture"
   ]
  },
  {
   "cell_type": "code",
   "execution_count": 8,
   "id": "5b318614",
   "metadata": {
    "scrolled": false
   },
   "outputs": [],
   "source": [
    "# Initialize video capture object\n",
    "cap = cv2.VideoCapture(0)\n",
    "\n",
    "# Initialize MediaPipe components\n",
    "with mp_hands.Hands(min_detection_confidence=0.5, min_tracking_confidence=0.5, max_num_hands=4) as hands, \\\n",
    "     mp_face_detection.FaceDetection(min_detection_confidence=0.5) as face_detection, \\\n",
    "     mp_holistic.Holistic(min_detection_confidence=0.5, min_tracking_confidence=0.5) as holistic:\n",
    "    \n",
    "    while cap.isOpened():\n",
    "        # Read frame from video capture\n",
    " \n",
    "        success, image = cap.read()\n",
    "        if not success:\n",
    "            print(\"Ignoring empty camera frame.\")\n",
    "            continue\n",
    " \n",
    "        # Convert color space from BGR to RGB\n",
    "        image = cv2.cvtColor(cv2.flip(image, 1), cv2.COLOR_BGR2RGB)\n",
    "         # Perform face detection\n",
    "        results_face = face_detection.process(image)\n",
    "        \n",
    "        # Draw bounding boxes around detected faces\n",
    "        if results_face.detections:\n",
    "            for detection in results_face.detections:\n",
    "                facebox = detection.location_data.relative_bounding_box\n",
    "                ih, iw, _ = image.shape\n",
    "                bbox = int(facebox.xmin * iw), int(facebox.ymin * ih), int(facebox.width * iw), int(facebox.height * ih)\n",
    "                cv2.rectangle(image, (bbox[0], bbox[1]), (bbox[0] + bbox[2], bbox[1] + bbox[3]), (93, 63, 211), 2)\n",
    "        \n",
    "       \n",
    "\n",
    "        # Perform holistic detection\n",
    "        results_holistic = holistic.process(image)\n",
    "        \n",
    "        \"\"\"Visualize face landmarks\n",
    "        if results_holistic.face_landmarks:\n",
    "            for landmark in results_holistic.face_landmarks.landmark:\n",
    "                x = int(landmark.x * image.shape[1])\n",
    "                y = int(landmark.y * image.shape[0])\n",
    "                cv2.circle(image, (x, y), 2, (255, 0, 0), -1)\"\"\"\n",
    "\n",
    "         # Perform hand detection\n",
    " \n",
    "        results = hands.process(image)\n",
    "        \n",
    "        # Visualize hand landmarks\n",
    "\n",
    "        if results.multi_hand_landmarks:\n",
    "            for hand_landmarks in results.multi_hand_landmarks:\n",
    "                mp_drawing.draw_landmarks(image, hand_landmarks, mp_hands.HAND_CONNECTIONS,mp_drawing.DrawingSpec(color=(255, 0, 0), thickness=2, circle_radius=4))\n",
    "                \n",
    "        \n",
    "        image = cv2.cvtColor(image, cv2.COLOR_RGB2BGR)\n",
    " \n",
    "        \n",
    "        \n",
    "        # Display the processed image\n",
    "        cv2.imshow('MediaPipe Hands', image)\n",
    "        \n",
    "        # Check for keyboard input to exit\n",
    "        if cv2.waitKey(1) & 0xFF == 27:\n",
    "            break\n",
    "\n",
    "# Release video capture object and close OpenCV windows\n",
    "cap.release()\n",
    "cv2.destroyAllWindows()\n"
   ]
  },
  {
   "cell_type": "code",
   "execution_count": null,
   "id": "19733406",
   "metadata": {},
   "outputs": [],
   "source": []
  }
 ],
 "metadata": {
  "kernelspec": {
   "display_name": "Python 3 (ipykernel)",
   "language": "python",
   "name": "python3"
  },
  "language_info": {
   "codemirror_mode": {
    "name": "ipython",
    "version": 3
   },
   "file_extension": ".py",
   "mimetype": "text/x-python",
   "name": "python",
   "nbconvert_exporter": "python",
   "pygments_lexer": "ipython3",
   "version": "3.9.13"
  }
 },
 "nbformat": 4,
 "nbformat_minor": 5
}
